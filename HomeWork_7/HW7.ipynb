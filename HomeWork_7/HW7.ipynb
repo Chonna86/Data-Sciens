{
  "cells": [
    {
      "cell_type": "markdown",
      "metadata": {
        "id": "view-in-github",
        "colab_type": "text"
      },
      "source": [
        "<a href=\"https://colab.research.google.com/github/Chonna86/Data-Sciens/blob/main/HomeWork_7/HW7.ipynb\" target=\"_parent\"><img src=\"https://colab.research.google.com/assets/colab-badge.svg\" alt=\"Open In Colab\"/></a>"
      ]
    },
    {
      "cell_type": "code",
      "execution_count": 5,
      "metadata": {
        "id": "nNAmgHFnSf_i",
        "outputId": "c4e037b7-ac3d-490e-d3f1-40a036cad4f0",
        "colab": {
          "base_uri": "https://localhost:8080/"
        }
      },
      "outputs": [
        {
          "output_type": "stream",
          "name": "stdout",
          "text": [
            "Requirement already satisfied: scikit-surprise in /usr/local/lib/python3.10/dist-packages (1.1.3)\n",
            "Requirement already satisfied: joblib>=1.0.0 in /usr/local/lib/python3.10/dist-packages (from scikit-surprise) (1.4.0)\n",
            "Requirement already satisfied: numpy>=1.17.3 in /usr/local/lib/python3.10/dist-packages (from scikit-surprise) (1.25.2)\n",
            "Requirement already satisfied: scipy>=1.3.2 in /usr/local/lib/python3.10/dist-packages (from scikit-surprise) (1.11.4)\n"
          ]
        }
      ],
      "source": [
        "!pip install scikit-surprise\n"
      ]
    },
    {
      "cell_type": "code",
      "source": [
        "\n",
        "from surprise import Dataset, Reader, accuracy\n",
        "from surprise.model_selection import GridSearchCV\n",
        "from surprise.prediction_algorithms import SVD, SVDpp, NMF\n",
        "\n",
        "# Завантаження даних з набору даних MovieLens\n",
        "data = Dataset.load_builtin('ml-100k')\n",
        "\n",
        "# Оголошення об'єкту GridSearchCV для пошуку найкращих параметрів моделі\n",
        "param_grid = {'n_factors': [50, 100, 150], 'n_epochs': [20, 30, 40], 'lr_all': [0.002, 0.005, 0.01]}\n",
        "gs = GridSearchCV(SVD, param_grid, measures=['rmse'], cv=3)\n",
        "\n",
        "# Запуск крос-валідації для пошуку найкращих параметрів\n",
        "gs.fit(data)\n",
        "\n",
        "# Виведення найкращого результату та параметрів моделі\n",
        "print(gs.best_score['rmse'])\n",
        "print(gs.best_params['rmse'])\n",
        "\n",
        "# Запуск SVD++ та NMF алгоритмів для порівняння результатів\n",
        "algo_svdpp = SVDpp()\n",
        "algo_nmf = NMF()"
      ],
      "metadata": {
        "colab": {
          "base_uri": "https://localhost:8080/"
        },
        "id": "0l8FxtemZltN",
        "outputId": "14b54ec4-8a38-46fe-d1d7-8084f8e3e159"
      },
      "execution_count": 8,
      "outputs": [
        {
          "output_type": "stream",
          "name": "stdout",
          "text": [
            "0.9449754586413445\n",
            "{'n_factors': 50, 'n_epochs': 20, 'lr_all': 0.005}\n"
          ]
        }
      ]
    },
    {
      "cell_type": "code",
      "source": [
        "# Порівняння з іншими алгоритмами: SVD++, NMF\n",
        "algos = [SVDpp(), NMF()]\n",
        "for algo in algos:\n",
        "    algo.fit(data.build_full_trainset())\n",
        "    predictions = algo.test(data.build_full_trainset().build_testset())\n",
        "    print(f\"{algo.__class__.__name__} RMSE score:\", accuracy.rmse(predictions))"
      ],
      "metadata": {
        "colab": {
          "base_uri": "https://localhost:8080/"
        },
        "id": "dA5ufZBVaILD",
        "outputId": "0de820cc-4708-4427-d5a0-b9fd665f47ca"
      },
      "execution_count": 9,
      "outputs": [
        {
          "output_type": "stream",
          "name": "stdout",
          "text": [
            "RMSE: 0.7567\n",
            "SVDpp RMSE score: 0.7567368892502266\n",
            "RMSE: 0.8238\n",
            "NMF RMSE score: 0.8237656880610996\n"
          ]
        }
      ]
    }
  ],
  "metadata": {
    "kernelspec": {
      "display_name": "Python 3",
      "language": "python",
      "name": "python3"
    },
    "language_info": {
      "codemirror_mode": {
        "name": "ipython",
        "version": 3
      },
      "file_extension": ".py",
      "mimetype": "text/x-python",
      "name": "python",
      "nbconvert_exporter": "python",
      "pygments_lexer": "ipython3",
      "version": "3.11.2"
    },
    "colab": {
      "provenance": [],
      "include_colab_link": true
    }
  },
  "nbformat": 4,
  "nbformat_minor": 0
}