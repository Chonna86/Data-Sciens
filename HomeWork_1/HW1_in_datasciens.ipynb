{
 "cells": [
  {
   "cell_type": "code",
   "execution_count": 24,
   "id": "492d2768-3036-4614-8648-3eb35069013e",
   "metadata": {},
   "outputs": [
    {
     "name": "stdout",
     "output_type": "stream",
     "text": [
      "[ 1  2  3  4  5  6  7  8  9 10]\n"
     ]
    }
   ],
   "source": [
    "import numpy as np\n",
    "#Завдання №1\n",
    "my_vector = np.array([1, 2, 3, 4, 5, 6, 7, 8, 9, 10])\n",
    "print(my_vector)"
   ]
  },
  {
   "cell_type": "code",
   "execution_count": 23,
   "id": "19fec179-7c13-4d50-9669-57049ad4ee55",
   "metadata": {},
   "outputs": [
    {
     "name": "stdout",
     "output_type": "stream",
     "text": [
      "[[0. 0. 0.]\n",
      " [0. 0. 0.]\n",
      " [0. 0. 0.]]\n"
     ]
    }
   ],
   "source": [
    "#Завдання №2\n",
    "matrix = np.zeros((3, 3))\n",
    "print(matrix)"
   ]
  },
  {
   "cell_type": "code",
   "execution_count": 22,
   "id": "91f42c8e-ae35-4f79-ae19-903c4432d213",
   "metadata": {},
   "outputs": [
    {
     "name": "stdout",
     "output_type": "stream",
     "text": [
      "[[ 4  7  5  5  7]\n",
      " [10  2  1  3  2]\n",
      " [ 2  4  4  7  6]\n",
      " [ 4  6  7  2  5]\n",
      " [ 3  1  2  8  8]]\n"
     ]
    }
   ],
   "source": [
    "#Завдання №3\n",
    "random_matrix = np.random.randint(1, 11, size=(5, 5))\n",
    "print(random_matrix)"
   ]
  },
  {
   "cell_type": "code",
   "execution_count": 20,
   "id": "2153625f-ccd3-46ca-bc1d-f27926803403",
   "metadata": {},
   "outputs": [
    {
     "name": "stdout",
     "output_type": "stream",
     "text": [
      "[[0.51700643 0.27572586 0.81668476 0.095658  ]\n",
      " [0.84496838 0.85206775 0.45418724 0.54306677]\n",
      " [0.54833675 0.88713632 0.8604266  0.98711921]\n",
      " [0.06259999 0.48202161 0.80222192 0.15479467]]\n"
     ]
    }
   ],
   "source": [
    "#Завдання №4\n",
    "random_matrix = np.random.rand(4, 4)\n",
    "print(random_matrix)"
   ]
  },
  {
   "cell_type": "code",
   "execution_count": 19,
   "id": "97c223d1-3671-43ff-ab72-1406a81c0667",
   "metadata": {},
   "outputs": [
    {
     "name": "stdout",
     "output_type": "stream",
     "text": [
      "Масив 1: [10  7  4  9  4]\n",
      "Масив 2: [ 8  5  2  9 10]\n",
      "Сума: [18 12  6 18 14]\n",
      "Різниця: [ 2  2  2  0 -6]\n",
      "Добуток: [80 35  8 81 40]\n"
     ]
    }
   ],
   "source": [
    "#Завдання №5\n",
    "array1 = np.random.randint(1, 11, size=5)\n",
    "array2 = np.random.randint(1, 11, size=5)\n",
    "print(\"Масив 1:\", array1)\n",
    "print(\"Масив 2:\", array2)\n",
    "\n",
    "\n",
    "sum_result = array1 + array2\n",
    "difference_result = array1 - array2\n",
    "product_result = array1 * array2\n",
    "\n",
    "\n",
    "print(\"Сума:\", sum_result)\n",
    "print(\"Різниця:\", difference_result)\n",
    "print(\"Добуток:\", product_result)"
   ]
  },
  {
   "cell_type": "code",
   "execution_count": 18,
   "id": "0ec7ca78-29c5-4f1e-9744-46faa5978391",
   "metadata": {},
   "outputs": [
    {
     "name": "stdout",
     "output_type": "stream",
     "text": [
      "Вектор 1: [0.19864593 0.86624238 0.78426338 0.32283869 0.36871464 0.84692996\n",
      " 0.29363753]\n",
      "Вектор 2: [0.05453579 0.1380731  0.18139393 0.99203444 0.69544365 0.50761247\n",
      " 0.49396613]\n",
      "Скалярний добуток: 1.424345260195771\n"
     ]
    }
   ],
   "source": [
    "#Завдання №6\n",
    "vector1 = np.random.random(7)\n",
    "vector2 = np.random.random(7)\n",
    "print(\"Вектор 1:\", vector1)\n",
    "print(\"Вектор 2:\", vector2)\n",
    "\n",
    "\n",
    "dot_product = np.dot(vector1, vector2)\n",
    "print(\"Скалярний добуток:\", dot_product)"
   ]
  },
  {
   "cell_type": "code",
   "execution_count": 17,
   "id": "d43c5d09-9e52-476a-bec0-149ce85a62c2",
   "metadata": {},
   "outputs": [
    {
     "name": "stdout",
     "output_type": "stream",
     "text": [
      "Матриця 1:\n",
      "[[1 5]\n",
      " [3 2]]\n",
      "\n",
      "Матриця 2:\n",
      "[[ 4  2  6]\n",
      " [ 1  9 10]]\n",
      "\n",
      "Результат перемноження:\n",
      "[[ 9 47 56]\n",
      " [14 24 38]]\n"
     ]
    }
   ],
   "source": [
    "#Завдання №7\n",
    "matrix1 = np.random.randint(1, 11, size=(2, 2))\n",
    "matrix2 = np.random.randint(1, 11, size=(2, 3))\n",
    "print(\"Матриця 1:\")\n",
    "print(matrix1)\n",
    "print(\"\\nМатриця 2:\")\n",
    "print(matrix2)\n",
    "\n",
    "\n",
    "result_matrix = np.dot(matrix1, matrix2)\n",
    "\n",
    "\n",
    "print(\"\\nРезультат перемноження:\")\n",
    "print(result_matrix)\n",
    "\n",
    "\n",
    "\n",
    "\n",
    "\n",
    "\n"
   ]
  },
  {
   "cell_type": "code",
   "execution_count": 16,
   "id": "a5da30de-dd3b-4997-8a66-73a1509cc17f",
   "metadata": {},
   "outputs": [
    {
     "name": "stdout",
     "output_type": "stream",
     "text": [
      "Матриця:\n",
      "[[7 1 9]\n",
      " [2 3 3]\n",
      " [4 3 7]]\n",
      "\n",
      "Обернена матриця:\n",
      "[[ 0.42857143  0.71428571 -0.85714286]\n",
      " [-0.07142857  0.46428571 -0.10714286]\n",
      " [-0.21428571 -0.60714286  0.67857143]]\n"
     ]
    }
   ],
   "source": [
    "#Завдання №8\n",
    "matrix = np.random.randint(1, 11, size=(3, 3))\n",
    "print(\"Матриця:\")\n",
    "print(matrix)\n",
    "\n",
    "try:\n",
    "    inverse_matrix = np.linalg.inv(matrix)\n",
    "    print(\"\\nОбернена матриця:\")\n",
    "    print(inverse_matrix)\n",
    "except np.linalg.LinAlgError:\n",
    "    print(\"\\nМатриця є виродженою, обернена матриця не існує.\")"
   ]
  },
  {
   "cell_type": "code",
   "execution_count": 15,
   "id": "d0f00fc7-471e-4916-a4fa-8e01622fe9d6",
   "metadata": {},
   "outputs": [
    {
     "name": "stdout",
     "output_type": "stream",
     "text": [
      "Матриця:\n",
      "[[0.82383345 0.06488189 0.04866924 0.56881036]\n",
      " [0.76311023 0.72448983 0.34791574 0.33006334]\n",
      " [0.6230349  0.97254837 0.90416617 0.0084156 ]\n",
      " [0.61791357 0.06427207 0.09792003 0.56731865]]\n",
      "\n",
      "Транспонована матриця:\n",
      "[[0.82383345 0.76311023 0.6230349  0.61791357]\n",
      " [0.06488189 0.72448983 0.97254837 0.06427207]\n",
      " [0.04866924 0.34791574 0.90416617 0.09792003]\n",
      " [0.56881036 0.33006334 0.0084156  0.56731865]]\n"
     ]
    }
   ],
   "source": [
    "#Завдання №9\n",
    "matrix = np.random.rand(4, 4)\n",
    "print(\"Матриця:\")\n",
    "print(matrix)\n",
    "\n",
    "\n",
    "transposed_matrix = np.transpose(matrix)\n",
    "print(\"\\nТранспонована матриця:\")\n",
    "print(transposed_matrix)"
   ]
  },
  {
   "cell_type": "code",
   "execution_count": 25,
   "id": "66eff449-dda8-4ee5-a951-26822457196c",
   "metadata": {},
   "outputs": [
    {
     "name": "stdout",
     "output_type": "stream",
     "text": [
      "Матриця:\n",
      "[[7 7 1 5]\n",
      " [4 2 2 8]\n",
      " [2 9 7 8]]\n",
      "\n",
      "Вектор:\n",
      "[ 9 10  4  5]\n",
      "\n",
      "Результат перемноження:\n",
      "[162 104 176]\n"
     ]
    }
   ],
   "source": [
    "#Завдання №10\n",
    "matrix = np.random.randint(1, 11, size=(3, 4))\n",
    "vector = np.random.randint(1, 11, size=4)\n",
    "print(\"Матриця:\")\n",
    "print(matrix)\n",
    "print(\"\\nВектор:\")\n",
    "print(vector)\n",
    "\n",
    "\n",
    "result_vector = np.dot(matrix, vector)\n",
    "print(\"\\nРезультат перемноження:\")\n",
    "print(result_vector)"
   ]
  },
  {
   "cell_type": "code",
   "execution_count": 26,
   "id": "49072bc5-ee50-4e73-a669-a5e11d0a10eb",
   "metadata": {},
   "outputs": [
    {
     "name": "stdout",
     "output_type": "stream",
     "text": [
      "Матриця:\n",
      "[[0.8508694  0.93131973 0.48215032]\n",
      " [0.84995309 0.68467805 0.98124603]]\n",
      "\n",
      "Вектор:\n",
      "[0.18715912 0.53725846 0.96334749]\n",
      "\n",
      "Результат перемноження:\n",
      "[1.12408567 1.47220644]\n"
     ]
    }
   ],
   "source": [
    "#Завдання №11\n",
    "matrix = np.random.rand(2, 3)\n",
    "vector = np.random.rand(3)\n",
    "print(\"Матриця:\")\n",
    "print(matrix)\n",
    "print(\"\\nВектор:\")\n",
    "print(vector)\n",
    "\n",
    "\n",
    "result_vector = np.dot(matrix, vector)\n",
    "print(\"\\nРезультат перемноження:\")\n",
    "print(result_vector)"
   ]
  },
  {
   "cell_type": "code",
   "execution_count": 27,
   "id": "7033bb3f-1017-4680-82c6-e11e84b784ce",
   "metadata": {},
   "outputs": [
    {
     "name": "stdout",
     "output_type": "stream",
     "text": [
      "Матриця 1:\n",
      "[[5 7]\n",
      " [6 7]]\n",
      "\n",
      "Матриця 2:\n",
      "[[8 2]\n",
      " [6 9]]\n",
      "\n",
      "Результат поелементного множення:\n",
      "[[40 14]\n",
      " [36 63]]\n"
     ]
    }
   ],
   "source": [
    "#Завдання №12\n",
    "matrix1 = np.random.randint(1, 11, size=(2, 2))\n",
    "matrix2 = np.random.randint(1, 11, size=(2, 2))\n",
    "print(\"Матриця 1:\")\n",
    "print(matrix1)\n",
    "print(\"\\nМатриця 2:\")\n",
    "print(matrix2)\n",
    "\n",
    "\n",
    "result_matrix = np.multiply(matrix1, matrix2)\n",
    "print(\"\\nРезультат поелементного множення:\")\n",
    "print(result_matrix)"
   ]
  },
  {
   "cell_type": "code",
   "execution_count": 28,
   "id": "0633deb6-b99a-485b-b2db-5ad0ac6b7b7d",
   "metadata": {},
   "outputs": [
    {
     "name": "stdout",
     "output_type": "stream",
     "text": [
      "Матриця 1:\n",
      "[[10  9]\n",
      " [ 6  3]]\n",
      "\n",
      "Матриця 2:\n",
      "[[2 9]\n",
      " [1 7]]\n",
      "\n",
      "Результат добутку матриць:\n",
      "[[ 29 153]\n",
      " [ 15  75]]\n"
     ]
    }
   ],
   "source": [
    "#Завдання №13\n",
    "matrix1 = np.random.randint(1, 11, size=(2, 2))\n",
    "matrix2 = np.random.randint(1, 11, size=(2, 2))\n",
    "print(\"Матриця 1:\")\n",
    "print(matrix1)\n",
    "print(\"\\nМатриця 2:\")\n",
    "print(matrix2)\n",
    "\n",
    "\n",
    "result_matrix = np.dot(matrix1, matrix2)\n",
    "\n",
    "\n",
    "print(\"\\nРезультат добутку матриць:\")\n",
    "print(result_matrix)"
   ]
  },
  {
   "cell_type": "code",
   "execution_count": 29,
   "id": "d430ea60-e8e0-46b9-a294-fe50e91c6584",
   "metadata": {},
   "outputs": [
    {
     "name": "stdout",
     "output_type": "stream",
     "text": [
      "Матриця:\n",
      "[[85 51 59 26 10]\n",
      " [51 74 31 36  6]\n",
      " [30 10 28  6 35]\n",
      " [39 88  8 86 30]\n",
      " [65 98 11 50 68]]\n",
      "\n",
      "Сума елементів матриці: 1081\n"
     ]
    }
   ],
   "source": [
    "#Завдання №14\n",
    "matrix = np.random.randint(1, 101, size=(5, 5))\n",
    "print(\"Матриця:\")\n",
    "print(matrix)\n",
    "\n",
    "sum_of_elements = np.sum(matrix)\n",
    "print(\"\\nСума елементів матриці:\", sum_of_elements)"
   ]
  },
  {
   "cell_type": "code",
   "execution_count": 30,
   "id": "9b6b13c2-7dea-4f11-b5ca-6f2aacc0e801",
   "metadata": {},
   "outputs": [
    {
     "name": "stdout",
     "output_type": "stream",
     "text": [
      "Матриця 1:\n",
      "[[6 1 9 7]\n",
      " [7 7 4 6]\n",
      " [1 7 5 9]\n",
      " [7 8 7 3]]\n",
      "\n",
      "Матриця 2:\n",
      "[[ 7 10  1  5]\n",
      " [ 9  2  7  7]\n",
      " [ 3  3  8  8]\n",
      " [ 3 10  5  5]]\n",
      "\n",
      "Різниця матриць:\n",
      "[[-1 -9  8  2]\n",
      " [-2  5 -3 -1]\n",
      " [-2  4 -3  1]\n",
      " [ 4 -2  2 -2]]\n"
     ]
    }
   ],
   "source": [
    "#Завдання №15\n",
    "matrix1 = np.random.randint(1, 11, size=(4, 4))\n",
    "matrix2 = np.random.randint(1, 11, size=(4, 4))\n",
    "print(\"Матриця 1:\")\n",
    "print(matrix1)\n",
    "print(\"\\nМатриця 2:\")\n",
    "print(matrix2)\n",
    "\n",
    "difference_matrix = np.subtract(matrix1, matrix2)\n",
    "print(\"\\nРізниця матриць:\")\n",
    "print(difference_matrix)"
   ]
  },
  {
   "cell_type": "code",
   "execution_count": 31,
   "id": "2693f4a8-2064-4a51-be15-0a35d2409ab4",
   "metadata": {},
   "outputs": [
    {
     "name": "stdout",
     "output_type": "stream",
     "text": [
      "Матриця:\n",
      "[[0.16321454 0.34611004 0.80293026]\n",
      " [0.41774426 0.10555914 0.6828009 ]\n",
      " [0.82307952 0.15475955 0.19787416]]\n",
      "\n",
      "Вектор-стовпчик із сумою елементів кожного рядка:\n",
      "[[1.31225484]\n",
      " [1.2061043 ]\n",
      " [1.17571323]]\n"
     ]
    }
   ],
   "source": [
    "#Завдання №16\n",
    "matrix = np.random.rand(3, 3)\n",
    "print(\"Матриця:\")\n",
    "print(matrix)\n",
    "\n",
    "row_sums = np.sum(matrix, axis=1, keepdims=True)\n",
    "print(\"\\nВектор-стовпчик із сумою елементів кожного рядка:\")\n",
    "print(row_sums)"
   ]
  },
  {
   "cell_type": "code",
   "execution_count": 32,
   "id": "6ddd7c3c-b514-4c7d-b406-15e81388a361",
   "metadata": {},
   "outputs": [
    {
     "name": "stdout",
     "output_type": "stream",
     "text": [
      "Початкова матриця:\n",
      "[[  6   3  -8   3]\n",
      " [-10   9   0   0]\n",
      " [ -3   0   9  -4]]\n",
      "\n",
      "Матриця з квадратами чисел:\n",
      "[[ 36   9  64   9]\n",
      " [100  81   0   0]\n",
      " [  9   0  81  16]]\n"
     ]
    }
   ],
   "source": [
    "#Завдання №17\n",
    "original_matrix = np.random.randint(-10, 11, size=(3, 4))\n",
    "print(\"Початкова матриця:\")\n",
    "print(original_matrix)\n",
    "\n",
    "squared_matrix = np.square(original_matrix)\n",
    "print(\"\\nМатриця з квадратами чисел:\")\n",
    "print(squared_matrix)"
   ]
  },
  {
   "cell_type": "code",
   "execution_count": 33,
   "id": "563258fd-c05b-4b6a-a2d7-abd64653d16b",
   "metadata": {},
   "outputs": [
    {
     "name": "stdout",
     "output_type": "stream",
     "text": [
      "Початковий вектор:\n",
      "[15 14 18 42]\n",
      "\n",
      "Вектор з квадратними коренями чисел:\n",
      "[3.87298335 3.74165739 4.24264069 6.4807407 ]\n"
     ]
    }
   ],
   "source": [
    "#Завдання №18\n",
    "original_vector = np.random.randint(1, 51, size=4)\n",
    "print(\"Початковий вектор:\")\n",
    "print(original_vector)\n",
    "\n",
    "sqrt_vector = np.sqrt(original_vector)\n",
    "print(\"\\nВектор з квадратними коренями чисел:\")\n",
    "print(sqrt_vector)"
   ]
  },
  {
   "cell_type": "code",
   "execution_count": null,
   "id": "52518baa-f6ff-4057-b2b6-e55132c1f413",
   "metadata": {},
   "outputs": [],
   "source": []
  }
 ],
 "metadata": {
  "kernelspec": {
   "display_name": "Python 3 (ipykernel)",
   "language": "python",
   "name": "python3"
  },
  "language_info": {
   "codemirror_mode": {
    "name": "ipython",
    "version": 3
   },
   "file_extension": ".py",
   "mimetype": "text/x-python",
   "name": "python",
   "nbconvert_exporter": "python",
   "pygments_lexer": "ipython3",
   "version": "3.11.7"
  }
 },
 "nbformat": 4,
 "nbformat_minor": 5
}
