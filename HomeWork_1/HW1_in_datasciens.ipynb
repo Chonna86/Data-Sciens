{
 "cells": [
  {
   "cell_type": "code",
   "execution_count": null,
   "id": "4ee120a6-be02-4dd1-aac3-66a006231822",
   "metadata": {},
   "outputs": [],
   "source": [
    "!git init\n",
    "\n"
   ]
  },
  {
   "cell_type": "code",
   "execution_count": null,
   "id": "ba359120-2545-4ead-b815-e9fc562ef3a0",
   "metadata": {},
   "outputs": [],
   "source": [
    "!git remote add origin https://github.com/Chonna86/Data-Sciens"
   ]
  }
 ],
 "metadata": {
  "kernelspec": {
   "display_name": "Python 3 (ipykernel)",
   "language": "python",
   "name": "python3"
  },
  "language_info": {
   "codemirror_mode": {
    "name": "ipython",
    "version": 3
   },
   "file_extension": ".py",
   "mimetype": "text/x-python",
   "name": "python",
   "nbconvert_exporter": "python",
   "pygments_lexer": "ipython3",
   "version": "3.11.7"
  }
 },
 "nbformat": 4,
 "nbformat_minor": 5
}
