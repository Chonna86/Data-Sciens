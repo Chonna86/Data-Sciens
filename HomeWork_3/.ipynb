{
 "cells": [
  {
   "cell_type": "code",
   "execution_count": 1,
   "metadata": {},
   "outputs": [],
   "source": [
    "import numpy as np\n",
    "import pandas as pd\n",
    "\n",
    "def hypothesis(X, theta):\n",
    "    return np.dot(X, theta)"
   ]
  },
  {
   "cell_type": "code",
   "execution_count": 2,
   "metadata": {},
   "outputs": [],
   "source": [
    "def compute_cost(X, y, theta):\n",
    "    m = len(y)\n",
    "    predictions = hypothesis(X, theta)\n",
    "    cost = (1/(2*m)) * np.sum(np.square(predictions - y))\n",
    "    return cost"
   ]
  },
  {
   "cell_type": "code",
   "execution_count": 3,
   "metadata": {},
   "outputs": [],
   "source": [
    "def gradient_descent_step(X, y, theta, learning_rate):\n",
    "    m = len(y)\n",
    "    predictions = hypothesis(X, theta)\n",
    "    gradient = (1/m) * np.dot(X.T, (predictions - y))\n",
    "    theta -= learning_rate * gradient\n",
    "    return theta"
   ]
  },
  {
   "cell_type": "code",
   "execution_count": 4,
   "metadata": {},
   "outputs": [
    {
     "name": "stdout",
     "output_type": "stream",
     "text": [
      "      price  area  bedrooms  bathrooms  stories mainroad guestroom basement  \\\n",
      "0  13300000  7420         4          2        3      yes        no       no   \n",
      "1  12250000  8960         4          4        4      yes        no       no   \n",
      "2  12250000  9960         3          2        2      yes        no      yes   \n",
      "3  12215000  7500         4          2        2      yes        no      yes   \n",
      "4  11410000  7420         4          1        2      yes       yes      yes   \n",
      "\n",
      "  hotwaterheating airconditioning  parking prefarea furnishingstatus  \n",
      "0              no             yes        2      yes        furnished  \n",
      "1              no             yes        3       no        furnished  \n",
      "2              no              no        2      yes   semi-furnished  \n",
      "3              no             yes        3      yes        furnished  \n",
      "4              no             yes        2       no        furnished  \n"
     ]
    }
   ],
   "source": [
    "file_path = \"D:/PythonProjects/MY_PYTHON_WAY/PYTHON_DATA-SCIENS/HomeWork_3/Housing.csv\"\n",
    "df = pd.read_csv(file_path)\n",
    "print(df.head())"
   ]
  },
  {
   "cell_type": "code",
   "execution_count": 5,
   "metadata": {},
   "outputs": [
    {
     "name": "stdout",
     "output_type": "stream",
     "text": [
      "Mean Squared Error: 1791170049977.3193\n",
      "Intercept:(вільний член) [-173171.60763264]\n",
      "Coefficients:(коефіцієнти) [[3.78762754e+02 1.38604950e+06 4.06820034e+05]]\n"
     ]
    }
   ],
   "source": [
    "from sklearn.linear_model import LinearRegression\n",
    "import numpy as np\n",
    "from sklearn.linear_model import LinearRegression\n",
    "from sklearn.metrics import mean_squared_error\n",
    "\n",
    "file_path = \"D:/PythonProjects/MY_PYTHON_WAY/PYTHON_DATA-SCIENS/HomeWork_3/Housing.csv\"\n",
    "df = pd.read_csv(file_path)\n",
    "\n",
    "\n",
    "X_area = df['area'].values.reshape(-1, 1)\n",
    "X_bathrooms = df['bathrooms'].values.reshape(-1, 1)\n",
    "X_bedrooms = df['bedrooms'].values.reshape(-1, 1)\n",
    "y_price = df['price'].values.reshape(-1, 1)\n",
    "\n",
    "X = np.concatenate((X_area, X_bathrooms, X_bedrooms), axis=1)\n",
    "\n",
    "model = LinearRegression()\n",
    "model.fit(X, y_price)\n",
    "\n",
    "predictions = model.predict(X)\n",
    "mse = mean_squared_error(y_price, predictions)\n",
    "print(\"Mean Squared Error:\", mse)\n",
    "print(\"Intercept:(вільний член)\", model.intercept_)\n",
    "print(\"Coefficients:(коефіцієнти)\", model.coef_)"
   ]
  },
  {
   "cell_type": "code",
   "execution_count": 6,
   "metadata": {},
   "outputs": [
    {
     "name": "stdout",
     "output_type": "stream",
     "text": [
      "Intercept (вільний член): [-173171.60763262]\n",
      "Coefficients (коефіцієнти): [[3.78762754e+02]\n",
      " [1.38604950e+06]\n",
      " [4.06820034e+05]]\n"
     ]
    }
   ],
   "source": [
    "import numpy as np\n",
    "X_with_intercept = np.concatenate((np.ones((X.shape[0], 1)), X), axis=1)\n",
    "params = np.linalg.inv(X_with_intercept.T.dot(X_with_intercept)).dot(X_with_intercept.T).dot(y_price)\n",
    "intercept = params[0]\n",
    "coefficients = params[1:]\n",
    "print(\"Intercept (вільний член):\", intercept)\n",
    "print(\"Coefficients (коефіцієнти):\", coefficients)"
   ]
  }
 ],
 "metadata": {
  "kernelspec": {
   "display_name": "Python 3",
   "language": "python",
   "name": "python3"
  },
  "language_info": {
   "codemirror_mode": {
    "name": "ipython",
    "version": 3
   },
   "file_extension": ".py",
   "mimetype": "text/x-python",
   "name": "python",
   "nbconvert_exporter": "python",
   "pygments_lexer": "ipython3",
   "version": "3.11.2"
  }
 },
 "nbformat": 4,
 "nbformat_minor": 2
}
