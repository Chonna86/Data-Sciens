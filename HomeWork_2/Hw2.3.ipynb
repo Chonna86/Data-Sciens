{
 "cells": [
  {
   "cell_type": "code",
   "execution_count": 71,
   "metadata": {},
   "outputs": [
    {
     "name": "stdout",
     "output_type": "stream",
     "text": [
      "                                                Name  \\\n",
      "0                      10-Day Green Smoothie Cleanse   \n",
      "1                                  11/22/63: A Novel   \n",
      "2            12 Rules for Life: An Antidote to Chaos   \n",
      "3                             1984 (Signet Classics)   \n",
      "4  5,000 Awesome Facts (About Everything!) (Natio...   \n",
      "\n",
      "                     Author  User Rating  Reviews  Price  Year        Genre  \n",
      "0                  JJ Smith          4.7    17350      8  2016  Non Fiction  \n",
      "1              Stephen King          4.6     2052     22  2011      Fiction  \n",
      "2        Jordan B. Peterson          4.7    18979     15  2018  Non Fiction  \n",
      "3             George Orwell          4.7    21424      6  2017      Fiction  \n",
      "4  National Geographic Kids          4.8     7665     12  2019  Non Fiction  \n",
      "Розміри датасету: (550, 7)\n"
     ]
    }
   ],
   "source": [
    "import pandas as pd\n",
    "file_path = \"D:/PythonProjects/MY_PYTHON_WAY/PYTHON_DATA-SCIENS/HomeWork_2/bestsellers with categories.csv\"\n",
    "df = pd.read_csv(file_path)\n",
    "print(df.head())\n",
    "dataset_shape = df.shape\n",
    "print(\"Розміри датасету:\", dataset_shape)\n",
    "books_count = dataset_shape[0]\n",
    "with open(\"відповідь.txt\", \"w\", encoding=\"utf-8\") as file:\n",
    "    file.write(\"Про скільки книг зберігає дані датасет? - \")\n",
    "    file.write(str(books_count))\n",
    "    file.write(\"\\n\")"
   ]
  },
  {
   "cell_type": "code",
   "execution_count": 72,
   "metadata": {},
   "outputs": [],
   "source": [
    "df.columns = ['name', 'author', 'user_rating', 'reviews', 'price', 'year', 'genre']"
   ]
  },
  {
   "cell_type": "code",
   "execution_count": 73,
   "metadata": {},
   "outputs": [
    {
     "name": "stdout",
     "output_type": "stream",
     "text": [
      "Кількість пропусків у кожному стовпці:\n",
      "name           0\n",
      "author         0\n",
      "user_rating    0\n",
      "reviews        0\n",
      "price          0\n",
      "year           0\n",
      "genre          0\n",
      "dtype: int64\n"
     ]
    }
   ],
   "source": [
    "missing_values = df.isna().sum()\n",
    "print(\"Кількість пропусків у кожному стовпці:\")\n",
    "print(missing_values)\n",
    "any_missing = any(missing_values > 0)\n",
    "if any_missing:\n",
    "    with open('відповідь.txt', 'a', encoding=\"utf-8\") as file:\n",
    "        file.write(\"Чи є в якихось змінних пропуски? Так\\n\")\n",
    "else:\n",
    "    with open('відповідь.txt', 'a', encoding=\"utf-8\") as file:\n",
    "        file.write(\"Чи є в якихось змінних пропуски? Ні\\n\")\n"
   ]
  },
  {
   "cell_type": "code",
   "execution_count": 74,
   "metadata": {},
   "outputs": [],
   "source": [
    "unique_genres = df['genre'].unique()\n",
    "with open(\"відповідь.txt\", \"a\", encoding=\"utf-8\") as file:\n",
    "    file.write(\"Унікальні жанри: \")\n",
    "    for genre in unique_genres:\n",
    "        file.write(genre + \"\\n\")"
   ]
  },
  {
   "cell_type": "code",
   "execution_count": 75,
   "metadata": {},
   "outputs": [
    {
     "data": {
      "image/png": "[encoded data removed]",
      "text/plain": [
       "<Figure size 1000x600 with 1 Axes>"
      ]
     },
     "metadata": {},
     "output_type": "display_data"
    }
   ],
   "source": [
    "import matplotlib.pyplot as plt\n",
    "\n",
    "\n",
    "plt.figure(figsize=(10, 6))\n",
    "df['price'].plot(kind='hist', bins=20, color='skyblue', edgecolor='black')\n",
    "plt.xlabel('Price')\n",
    "plt.ylabel('Frequency')\n",
    "plt.title('Distribution of Prices')\n",
    "plt.show()"
   ]
  },
  {
   "cell_type": "code",
   "execution_count": 76,
   "metadata": {},
   "outputs": [],
   "source": [
    "max_price = df['price'].max()\n",
    "min_price = df['price'].min()\n",
    "mean_price = df['price'].mean()\n",
    "median_price = df['price'].median()\n",
    "with open(\"відповідь.txt\", \"a\", encoding=\"utf-8\") as file:\n",
    "    file.write(\"Максимальна ціна? - \" + str(max_price) + \"\\n\")\n",
    "    file.write(\"Мінімальна ціна? - \" + str(min_price) + \"\\n\")\n",
    "    file.write(\"Середня ціна? - \" + str(mean_price) + \"\\n\")\n",
    "    file.write(\"Медіанна ціна? - \" + str(median_price) + \"\\n\")"
   ]
  },
  {
   "cell_type": "code",
   "execution_count": 77,
   "metadata": {},
   "outputs": [],
   "source": [
    "max_rating = df['user_rating'].max()\n",
    "books_with_max_rating = df[df['user_rating'] == max_rating]\n",
    "num_books_with_max_rating = books_with_max_rating.shape[0]\n",
    "\n",
    "max_reviews_book = df[df['reviews'] == df['reviews'].max()]\n",
    "\n",
    "top_50_2015 = df[(df['year'] == 2015) & (df['genre'] == 'Fiction')].sort_values(by='price')\n",
    "cheapest_top_50_2015 = top_50_2015[top_50_2015['price'] < 8]\n",
    "\n",
    "num_fiction_top_50_2010 = df[(df['year'] == 2010) & (df['genre'] == 'Fiction')].shape[0]\n",
    "\n",
    "num_books_rating_4_9 = df[(df['user_rating'] == 4.9) & ((df['year'] == 2010) | (df['year'] == 2011))].shape[0]\n",
    "\n",
    "sorted_books = df[(df['year'] == 2015) & (df['price'] < 8)].sort_values(by='price')\n",
    "\n",
    "last_book = sorted_books.iloc[-1]\n",
    "\n",
    "with open(\"відповідь.txt\", \"a\", encoding=\"utf-8\") as file:\n",
    "    file.write(\"Який рейтинг у датасеті найвищий? - \" + str(max_rating) + \"\\n\")\n",
    "    file.write(\"Скільки книг мають такий рейтинг? - \" + str(num_books_with_max_rating) + \"\\n\")\n",
    "    file.write(\"Яка книга має найбільше відгуків? - \" + max_reviews_book.iloc[0]['name'] + \"\\n\")\n",
    "    file.write(\"З тих книг, що потрапили до Топ-50 у 2015 році, яка книга найдорожча? - \" + cheapest_top_50_2015.iloc[-1]['name'] + \"\\n\")\n",
    "    file.write(\"Скільки книг жанру Fiction потрапили до Топ-50 у 2010 році? - \" + str(num_fiction_top_50_2010) + \"\\n\")\n",
    "    file.write(\"Скільки книг з рейтингом 4.9 потрапило до рейтингу у 2010 та 2011 роках? - \" + str(num_books_rating_4_9) + \"\\n\")\n",
    "    file.write(\"Яка книга остання у відсортованому списку? - \" + last_book['name'] + \"\\n\")\n"
   ]
  },
  {
   "cell_type": "code",
   "execution_count": 78,
   "metadata": {},
   "outputs": [],
   "source": [
    "price_stats = df.groupby('genre')['price'].agg(['max', 'min'])\n",
    "with open(\"відповідь.txt\", \"a\", encoding=\"utf-8\") as file:\n",
    "    file.write(\"Максимальна ціна для жанру Fiction: \" + str(price_stats.loc['Fiction', 'max']) + \"\\n\")\n",
    "    file.write(\"Мінімальна ціна для жанру Fiction: \" + str(price_stats.loc['Fiction', 'min']) + \"\\n\")\n",
    "    file.write(\"Максимальна ціна для жанру Non Fiction: \" + str(price_stats.loc['Non Fiction', 'max']) + \"\\n\")\n",
    "    file.write(\"Мінімальна ціна для жанру Non Fiction: \" + str(price_stats.loc['Non Fiction', 'min']) + \"\\n\")"
   ]
  },
  {
   "cell_type": "code",
   "execution_count": 79,
   "metadata": {},
   "outputs": [],
   "source": [
    "author_books_count = df.groupby('author').agg({'name': 'count'}).reset_index()\n",
    "author_books_count.columns = ['author', 'books_count']\n",
    "\n",
    "table_shape = author_books_count.shape\n",
    "\n",
    "max_books_author = author_books_count.loc[author_books_count['books_count'].idxmax()]\n",
    "\n",
    "with open(\"відповідь.txt\", \"a\", encoding=\"utf-8\") as file:\n",
    "    file.write(\"Розмір таблиці: \" + str(table_shape) + \"\\n\")\n",
    "    file.write(\"Автор з найбільшою кількістю книг: \" + max_books_author['author'] + \"\\n\")\n",
    "    file.write(\"Кількість книг цього автора: \" + str(max_books_author['books_count']) + \"\\n\")"
   ]
  },
  {
   "cell_type": "code",
   "execution_count": 80,
   "metadata": {},
   "outputs": [],
   "source": [
    "author_avg_rating = df.groupby('author').agg({'user_rating': 'mean'}).reset_index()\n",
    "author_avg_rating.columns = ['author', 'avg_rating']\n",
    "\n",
    "min_avg_rating_author = author_avg_rating.loc[author_avg_rating['avg_rating'].idxmin()]\n",
    "\n",
    "with open(\"відповідь.txt\", \"a\", encoding=\"utf-8\") as file:\n",
    "    file.write(\"Автор з найнижчим середнім рейтингом: \" + min_avg_rating_author['author'] + \"\\n\")\n",
    "    file.write(\"Середній рейтинг для цього автора: \" + str(min_avg_rating_author['avg_rating']) + \"\\n\")"
   ]
  },
  {
   "cell_type": "code",
   "execution_count": 81,
   "metadata": {},
   "outputs": [],
   "source": [
    "\n",
    "merged_df = pd.concat([author_books_count, author_avg_rating['avg_rating']], axis=1)\n",
    "merged_df.columns = ['author', 'books_count', 'avg_rating']\n",
    "\n",
    "sorted_df = merged_df.sort_values(by=['books_count', 'avg_rating'])\n",
    "\n",
    "first_author = sorted_df.iloc[0]['author']\n",
    "with open(\"відповідь.txt\", \"a\", encoding=\"utf-8\") as file:\n",
    "    file.write(\"Перший автор у списку: \" + first_author + \"\\n\")"
   ]
  }
 ],
 "metadata": {
  "kernelspec": {
   "display_name": "Python 3",
   "language": "python",
   "name": "python3"
  },
  "language_info": {
   "codemirror_mode": {
    "name": "ipython",
    "version": 3
   },
   "file_extension": ".py",
   "mimetype": "text/x-python",
   "name": "python",
   "nbconvert_exporter": "python",
   "pygments_lexer": "ipython3",
   "version": "3.11.2"
  }
 },
 "nbformat": 4,
 "nbformat_minor": 2
}
